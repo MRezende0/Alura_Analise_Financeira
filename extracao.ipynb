{
 "cells": [
  {
   "cell_type": "code",
   "execution_count": 3,
   "metadata": {},
   "outputs": [],
   "source": [
    "import yfinance as yf"
   ]
  },
  {
   "cell_type": "code",
   "execution_count": 10,
   "metadata": {},
   "outputs": [],
   "source": [
    "carteira = [\"ABEV3.SA\", \"B3SA3.SA\", \"ELET3.SA\", \"GGBR4.SA\", \"ITSA4.SA\",\n",
    "            \"PETR4.SA\", \"RENT3.SA\", \"SUZB3.SA\", \"VALE3.SA\", \"WEG3.SA\"]"
   ]
  },
  {
   "cell_type": "code",
   "execution_count": 11,
   "metadata": {},
   "outputs": [
    {
     "name": "stderr",
     "output_type": "stream",
     "text": [
      "Failed to get ticker 'PETR4.SA' reason: HTTPSConnectionPool(host='fc.yahoo.com', port=443): Max retries exceeded with url: / (Caused by SSLError(SSLError(1, '[SSL: TLSV1_ALERT_INTERNAL_ERROR] tlsv1 alert internal error (_ssl.c:1000)')))\n",
      "Failed to get ticker 'ITSA4.SA' reason: HTTPSConnectionPool(host='fc.yahoo.com', port=443): Max retries exceeded with url: / (Caused by SSLError(SSLError(1, '[SSL: TLSV1_ALERT_INTERNAL_ERROR] tlsv1 alert internal error (_ssl.c:1000)')))\n",
      "[                       0%                       ]Failed to get ticker 'WEG3.SA' reason: HTTPSConnectionPool(host='fc.yahoo.com', port=443): Max retries exceeded with url: / (Caused by SSLError(SSLError(1, '[SSL: TLSV1_ALERT_INTERNAL_ERROR] tlsv1 alert internal error (_ssl.c:1000)')))\n",
      "[**********            20%                       ]  2 of 10 completedFailed to get ticker 'ABEV3.SA' reason: HTTPSConnectionPool(host='fc.yahoo.com', port=443): Max retries exceeded with url: / (Caused by SSLError(SSLError(1, '[SSL: TLSV1_ALERT_INTERNAL_ERROR] tlsv1 alert internal error (_ssl.c:1000)')))\n",
      "[**************        30%                       ]  3 of 10 completedFailed to get ticker 'B3SA3.SA' reason: HTTPSConnectionPool(host='fc.yahoo.com', port=443): Max retries exceeded with url: / (Caused by SSLError(SSLError(1, '[SSL: TLSV1_ALERT_INTERNAL_ERROR] tlsv1 alert internal error (_ssl.c:1000)')))\n",
      "[*******************   40%                       ]  4 of 10 completedFailed to get ticker 'RENT3.SA' reason: HTTPSConnectionPool(host='fc.yahoo.com', port=443): Max retries exceeded with url: / (Caused by SSLError(SSLError(1, '[SSL: TLSV1_ALERT_INTERNAL_ERROR] tlsv1 alert internal error (_ssl.c:1000)')))\n",
      "[**********************50%                       ]  5 of 10 completedFailed to get ticker 'ELET3.SA' reason: HTTPSConnectionPool(host='fc.yahoo.com', port=443): Max retries exceeded with url: / (Caused by SSLError(SSLError(1, '[SSL: TLSV1_ALERT_INTERNAL_ERROR] tlsv1 alert internal error (_ssl.c:1000)')))\n",
      "[**********************60%****                   ]  6 of 10 completedFailed to get ticker 'VALE3.SA' reason: HTTPSConnectionPool(host='fc.yahoo.com', port=443): Max retries exceeded with url: / (Caused by SSLError(SSLError(1, '[SSL: TLSV1_ALERT_INTERNAL_ERROR] tlsv1 alert internal error (_ssl.c:1000)')))\n",
      "[**********************70%*********              ]  7 of 10 completedFailed to get ticker 'GGBR4.SA' reason: HTTPSConnectionPool(host='fc.yahoo.com', port=443): Max retries exceeded with url: / (Caused by SSLError(SSLError(1, '[SSL: TLSV1_ALERT_INTERNAL_ERROR] tlsv1 alert internal error (_ssl.c:1000)')))\n",
      "[**********************80%*************          ]  8 of 10 completedFailed to get ticker 'SUZB3.SA' reason: HTTPSConnectionPool(host='fc.yahoo.com', port=443): Max retries exceeded with url: / (Caused by SSLError(SSLError(1, '[SSL: TLSV1_ALERT_INTERNAL_ERROR] tlsv1 alert internal error (_ssl.c:1000)')))\n",
      "[*********************100%***********************]  10 of 10 completed\n",
      "\n",
      "10 Failed downloads:\n",
      "['PETR4.SA', 'ITSA4.SA', 'WEG3.SA', 'ABEV3.SA', 'B3SA3.SA', 'RENT3.SA', 'ELET3.SA', 'VALE3.SA', 'GGBR4.SA', 'SUZB3.SA']: YFTzMissingError('$%ticker%: possibly delisted; no timezone found')\n"
     ]
    }
   ],
   "source": [
    "df = yf.download(carteira, start=\"2022-08-01\", end=\"2023-08-01\")"
   ]
  },
  {
   "cell_type": "code",
   "execution_count": 7,
   "metadata": {},
   "outputs": [
    {
     "data": {
      "text/html": [
       "<div>\n",
       "<style scoped>\n",
       "    .dataframe tbody tr th:only-of-type {\n",
       "        vertical-align: middle;\n",
       "    }\n",
       "\n",
       "    .dataframe tbody tr th {\n",
       "        vertical-align: top;\n",
       "    }\n",
       "\n",
       "    .dataframe thead tr th {\n",
       "        text-align: left;\n",
       "    }\n",
       "\n",
       "    .dataframe thead tr:last-of-type th {\n",
       "        text-align: right;\n",
       "    }\n",
       "</style>\n",
       "<table border=\"1\" class=\"dataframe\">\n",
       "  <thead>\n",
       "    <tr>\n",
       "      <th>Price</th>\n",
       "      <th colspan=\"10\" halign=\"left\">Adj Close</th>\n",
       "      <th>...</th>\n",
       "      <th colspan=\"10\" halign=\"left\">Volume</th>\n",
       "    </tr>\n",
       "    <tr>\n",
       "      <th>Ticker</th>\n",
       "      <th>ABEV3.SA</th>\n",
       "      <th>B3SA3.SA</th>\n",
       "      <th>ELET3.SA</th>\n",
       "      <th>GGBR4.SA</th>\n",
       "      <th>ITSA4.SA</th>\n",
       "      <th>PETR4.SA</th>\n",
       "      <th>RENT3.SA</th>\n",
       "      <th>SUZB3.SA</th>\n",
       "      <th>VALE3.SA</th>\n",
       "      <th>WEG3.SA</th>\n",
       "      <th>...</th>\n",
       "      <th>ABEV3.SA</th>\n",
       "      <th>B3SA3.SA</th>\n",
       "      <th>ELET3.SA</th>\n",
       "      <th>GGBR4.SA</th>\n",
       "      <th>ITSA4.SA</th>\n",
       "      <th>PETR4.SA</th>\n",
       "      <th>RENT3.SA</th>\n",
       "      <th>SUZB3.SA</th>\n",
       "      <th>VALE3.SA</th>\n",
       "      <th>WEG3.SA</th>\n",
       "    </tr>\n",
       "    <tr>\n",
       "      <th>Date</th>\n",
       "      <th></th>\n",
       "      <th></th>\n",
       "      <th></th>\n",
       "      <th></th>\n",
       "      <th></th>\n",
       "      <th></th>\n",
       "      <th></th>\n",
       "      <th></th>\n",
       "      <th></th>\n",
       "      <th></th>\n",
       "      <th></th>\n",
       "      <th></th>\n",
       "      <th></th>\n",
       "      <th></th>\n",
       "      <th></th>\n",
       "      <th></th>\n",
       "      <th></th>\n",
       "      <th></th>\n",
       "      <th></th>\n",
       "      <th></th>\n",
       "      <th></th>\n",
       "    </tr>\n",
       "  </thead>\n",
       "  <tbody>\n",
       "  </tbody>\n",
       "</table>\n",
       "<p>0 rows × 60 columns</p>\n",
       "</div>"
      ],
      "text/plain": [
       "Empty DataFrame\n",
       "Columns: [(Adj Close, ABEV3.SA), (Adj Close, B3SA3.SA), (Adj Close, ELET3.SA), (Adj Close, GGBR4.SA), (Adj Close, ITSA4.SA), (Adj Close, PETR4.SA), (Adj Close, RENT3.SA), (Adj Close, SUZB3.SA), (Adj Close, VALE3.SA), (Adj Close, WEG3.SA), (Close, ABEV3.SA), (Close, B3SA3.SA), (Close, ELET3.SA), (Close, GGBR4.SA), (Close, ITSA4.SA), (Close, PETR4.SA), (Close, RENT3.SA), (Close, SUZB3.SA), (Close, VALE3.SA), (Close, WEG3.SA), (High, ABEV3.SA), (High, B3SA3.SA), (High, ELET3.SA), (High, GGBR4.SA), (High, ITSA4.SA), (High, PETR4.SA), (High, RENT3.SA), (High, SUZB3.SA), (High, VALE3.SA), (High, WEG3.SA), (Low, ABEV3.SA), (Low, B3SA3.SA), (Low, ELET3.SA), (Low, GGBR4.SA), (Low, ITSA4.SA), (Low, PETR4.SA), (Low, RENT3.SA), (Low, SUZB3.SA), (Low, VALE3.SA), (Low, WEG3.SA), (Open, ABEV3.SA), (Open, B3SA3.SA), (Open, ELET3.SA), (Open, GGBR4.SA), (Open, ITSA4.SA), (Open, PETR4.SA), (Open, RENT3.SA), (Open, SUZB3.SA), (Open, VALE3.SA), (Open, WEG3.SA), (Volume, ABEV3.SA), (Volume, B3SA3.SA), (Volume, ELET3.SA), (Volume, GGBR4.SA), (Volume, ITSA4.SA), (Volume, PETR4.SA), (Volume, RENT3.SA), (Volume, SUZB3.SA), (Volume, VALE3.SA), (Volume, WEG3.SA)]\n",
       "Index: []\n",
       "\n",
       "[0 rows x 60 columns]"
      ]
     },
     "execution_count": 7,
     "metadata": {},
     "output_type": "execute_result"
    }
   ],
   "source": [
    "df.head(3)"
   ]
  },
  {
   "cell_type": "code",
   "execution_count": null,
   "metadata": {},
   "outputs": [],
   "source": []
  }
 ],
 "metadata": {
  "kernelspec": {
   "display_name": "Python 3",
   "language": "python",
   "name": "python3"
  },
  "language_info": {
   "codemirror_mode": {
    "name": "ipython",
    "version": 3
   },
   "file_extension": ".py",
   "mimetype": "text/x-python",
   "name": "python",
   "nbconvert_exporter": "python",
   "pygments_lexer": "ipython3",
   "version": "3.12.3"
  }
 },
 "nbformat": 4,
 "nbformat_minor": 2
}
